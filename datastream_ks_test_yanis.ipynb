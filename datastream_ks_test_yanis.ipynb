{
 "cells": [
  {
   "cell_type": "markdown",
   "metadata": {},
   "source": [
    "## Import"
   ]
  },
  {
   "cell_type": "code",
   "execution_count": 1,
   "metadata": {},
   "outputs": [],
   "source": [
    "import random\n",
    "import scipy.stats as stats\n",
    "import scipy\n",
    "from river import stats\n",
    "import numpy as np\n",
    "import matplotlib.pyplot as plt\n",
    "from river import sketch\n",
    "from scipy.stats import ksone"
   ]
  },
  {
   "cell_type": "markdown",
   "metadata": {},
   "source": [
    "## KS part"
   ]
  },
  {
   "cell_type": "code",
   "execution_count": 2,
   "metadata": {},
   "outputs": [],
   "source": [
    "def ks_quantile(quantile_list, river_histogram, N):\n",
    "    \n",
    "    # Initialize the ks\n",
    "    ks = 0\n",
    "    \n",
    "    quantile_length = len(quantile_list) + 2 # + 2 for Q0 and Q1\n",
    "    \n",
    "    for i, quantile in enumerate(quantile_list, start=1):\n",
    "        x = quantile.get()\n",
    "        \n",
    "        i_j = int(N*i/quantile_length)\n",
    "        \n",
    "        E_x = np.abs(i_j/N - river_histogram.cdf(x)) #The Paper formula\n",
    "        #E_x = np.maximum(river_histogram.cdf(x) - ((i_j-1)/N), i_j/N - river_histogram.cdf(x)) #The real Kolmogorov-Smirnov test formula\n",
    "        ks = np.maximum(ks, E_x)\n",
    "           \n",
    "\n",
    "    return ks"
   ]
  },
  {
   "cell_type": "code",
   "execution_count": 3,
   "metadata": {},
   "outputs": [],
   "source": [
    "def define_ks_quantile(quantile_list):\n",
    "\n",
    "    num_quantiles = 30 #More quantiles we have, the more we have precise results\n",
    "\n",
    "    for i in range(1, num_quantiles):\n",
    "        quantile_list.append(stats.Quantile(i/num_quantiles))\n",
    "    return quantile_list"
   ]
  },
  {
   "cell_type": "code",
   "execution_count": 4,
   "metadata": {},
   "outputs": [],
   "source": [
    "def update_ks_quantile(x, quantile_list):\n",
    "    for quantile in quantile_list:\n",
    "        quantile.update(x)"
   ]
  },
  {
   "cell_type": "code",
   "execution_count": 37,
   "metadata": {},
   "outputs": [],
   "source": [
    "def methode2(x, hist, N, K, histogram_exp):\n",
    "    \n",
    "    D_hat = 0\n",
    "    nb_tot = np.sum([hist[i].count for i in range (len(hist))])\n",
    "\n",
    "    for p in range(len(hist)):\n",
    "        proba=np.sum([hist[i].count for i in range (p+1)])/nb_tot\n",
    "        proba_exp=np.sum([histogram_exp[i].count for i in range (p+1)])/nb_tot\n",
    "        E_hat=np.abs(proba_exp-proba)\n",
    "        D_hat=D_hat if D_hat > E_hat else E_hat\n",
    "        \n",
    "    return D_hat"
   ]
  },
  {
   "cell_type": "markdown",
   "metadata": {},
   "source": [
    "## Benchmark"
   ]
  },
  {
   "cell_type": "code",
   "execution_count": 39,
   "metadata": {},
   "outputs": [],
   "source": [
    "N = 1000\n",
    "X = [random.uniform(0, 1) for _ in range(N)]\n",
    "X_exp_uniform = [random.uniform(0, 1000) for _ in range(N)]#for methode2\n",
    "K = 30\n",
    "c = 1\n",
    "\n",
    "#X = np.random.normal(0, 1, N)\n",
    "#c = 3\n",
    "\n",
    "#The Distribution to compare to, here a uniform distrib\n",
    "cdf = [random.uniform(0, 1) for _ in range(N)]\n",
    "\n",
    "\n",
    "#We know in advance the distribution to compare to, so we can make a sketch of it\n",
    "river_histogram = sketch.Histogram(max_bins=K)\n",
    "histogram_exp = sketch.Histogram(max_bins=K) #for methode2\n",
    "\n",
    "for i, x in enumerate(cdf):\n",
    "    river_histogram.update(x)\n",
    "    histogram_exp.update(X_exp_uniform[i-1])\n",
    "\n",
    "    \n",
    "\n",
    "\n",
    "quantile_list = []\n",
    "quantile_list = define_ks_quantile(quantile_list)\n",
    "\n",
    "ks_results = {\n",
    "    'scipy': [],\n",
    "    'critical': [],\n",
    "    'ks_quantile': [],\n",
    "    'methode2':[]}\n",
    "\n",
    "for i, x in enumerate(X, start=1):\n",
    "    river_histogram.update(x)\n",
    "    \n",
    "    histogram_exp.update(X_exp_uniform[i-1])\n",
    "     \n",
    "    update_ks_quantile(x, quantile_list)\n",
    "    \n",
    "   \n",
    "    ks_results['scipy'].append(scipy.stats.kstest(X[:i], cdf)[0])\n",
    "    ks_results['critical'].append(ksone.ppf(1-0.005, i))\n",
    "    ks_results['ks_quantile'].append(ks_quantile(quantile_list, river_histogram, i))\n",
    "    ks_results['methode2'].append(methode2(x, river_histogram, N, K, histogram_exp))"
   ]
  },
  {
   "cell_type": "code",
   "execution_count": 40,
   "metadata": {},
   "outputs": [
    {
     "data": {
      "image/png": "[encoded data removed]",
      "text/plain": [
       "<Figure size 432x288 with 1 Axes>"
      ]
     },
     "metadata": {
      "needs_background": "light"
     },
     "output_type": "display_data"
    }
   ],
   "source": [
    "fig, ax = plt.subplots()\n",
    "\n",
    "\n",
    "ax.plot(ks_results['scipy'], label='scipy')\n",
    "ax.plot(ks_results['critical'], label='critical')\n",
    "ax.plot(ks_results['ks_quantile'], label='ks_quantile')\n",
    "ax.plot(ks_results['methode2'], label='methode2')\n",
    "\n",
    "ax.legend()\n",
    "\n",
    "fig.tight_layout()"
   ]
  },
  {
   "cell_type": "code",
   "execution_count": null,
   "metadata": {},
   "outputs": [],
   "source": []
  },
  {
   "cell_type": "code",
   "execution_count": null,
   "metadata": {},
   "outputs": [],
   "source": []
  }
 ],
 "metadata": {
  "kernelspec": {
   "display_name": "Python 3",
   "language": "python",
   "name": "python3"
  },
  "language_info": {
   "codemirror_mode": {
    "name": "ipython",
    "version": 3
   },
   "file_extension": ".py",
   "mimetype": "text/x-python",
   "name": "python",
   "nbconvert_exporter": "python",
   "pygments_lexer": "ipython3",
   "version": "3.8.8"
  },
  "vscode": {
   "interpreter": {
    "hash": "14b46bd212fa4dd89e3980db6ba7efbb9fe535833e1e483b914b71733e0a56d2"
   }
  }
 },
 "nbformat": 4,
 "nbformat_minor": 4
}
