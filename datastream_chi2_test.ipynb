{
 "cells": [
  {
   "cell_type": "markdown",
   "metadata": {},
   "source": [
    "## Tools"
   ]
  },
  {
   "cell_type": "code",
   "execution_count": 1,
   "metadata": {},
   "outputs": [],
   "source": [
    "import sys\n",
    "import random\n",
    "from math import ceil\n",
    "\n",
    "class  KLL:\n",
    "    def __init__(self, k, c = 1, lazy=True, alternate=True, seed=None):\n",
    "        if k<=0: raise ValueError(\"k must be a positive integer.\")\n",
    "        if c <= 0.5 or c > 1.0: raise ValueError(\"c must larger than 0.5 and at most 1.0.\")\n",
    "        self.k = k\n",
    "        self.c = c\n",
    "        self.lazy = lazy\n",
    "        self.alternate = alternate\n",
    "        self.compactors = []\n",
    "        self.H = 0\n",
    "        self.size = 0\n",
    "        self.maxSize = 0\n",
    "        self.rng = random.Random(seed)\n",
    "        self.grow()\n",
    "\n",
    "    def grow(self):\n",
    "        self.compactors.append(Compactor(self.rng, self.alternate))\n",
    "        self.H = len(self.compactors)\n",
    "        self.maxSize = sum(self.capacity(height) for height in range(self.H))\n",
    "\n",
    "    def capacity(self, hight):\n",
    "        depth = self.H - hight - 1\n",
    "        return int(ceil(self.c**depth*self.k)) + 1\n",
    "\n",
    "    def update(self, item):\n",
    "        self.compactors[0].append(item)\n",
    "        self.size += 1\n",
    "        if self.size >= self.maxSize:\n",
    "            self.compress()\n",
    "            assert(self.size < self.maxSize)\n",
    "\n",
    "    def compress(self):\n",
    "        for h in range(len(self.compactors)):\n",
    "            if len(self.compactors[h]) >= self.capacity(h):\n",
    "                if h+1 >= self.H: self.grow()\n",
    "                self.compactors[h+1].extend(self.compactors[h].compact())\n",
    "                self.size = sum(len(c) for c in self.compactors)\n",
    "                if(self.lazy):\n",
    "                    break\n",
    "\n",
    "    def merge(self, other):\n",
    "        # Grow until self has at least as many compactors as other\n",
    "        while self.H < other.H: self.grow()\n",
    "        # Append the items in same height compactors\n",
    "        for h in range(other.H): self.compactors[h].extend(other.compactors[h])\n",
    "        self.size = sum(len(c) for c in self.compactors)\n",
    "        # Keep compressing until the size constraint is met\n",
    "        while self.size >= self.maxSize:\n",
    "            self.compress()\n",
    "        assert(self.size < self.maxSize)\n",
    "\n",
    "    def rank(self, value):\n",
    "        r = 0\n",
    "        for (h, c) in enumerate(self.compactors):\n",
    "             for item in c:\n",
    "                if item <= value:\n",
    "                    r += 2**h\n",
    "        return r\n",
    "\n",
    "    def cdf(self, x):\n",
    "        itemsAndWeights = []\n",
    "        totWeight = 0\n",
    "        for (h, items) in enumerate(self.compactors):\n",
    "            totWeight += 2**h * len(items)\n",
    "            itemsAndWeights.extend( (item, 2**h) for item in items if item < x )\n",
    "        itemsAndWeights.sort()\n",
    "        cumWeight = 0\n",
    "        for (item, weight) in itemsAndWeights:\n",
    "            cumWeight += weight\n",
    "        return float(cumWeight) / (float(totWeight) + 0.0001)\n",
    "\n",
    "class Compactor(list):\n",
    "    def __init__(self, rng, alternate=True):\n",
    "        self.rng = rng\n",
    "        self.numCompaction = 0\n",
    "        self.offset = 0\n",
    "        self.alternate = alternate\n",
    "\n",
    "    def compact(self):\n",
    "        if (self.numCompaction%2==1 and self.alternate):\n",
    "            self.offset = 1 - self.offset\n",
    "        else:\n",
    "            self.offset = int(self.rng.random() < 0.5)\n",
    "\n",
    "        self.sort()\n",
    "\n",
    "        lastItem = None\n",
    "        if (len(self)%2==1):\n",
    "            lastItem = self.pop(-1)\n",
    "\n",
    "        for i in range(self.offset,len(self),2):\n",
    "            yield self[i]\n",
    "\n",
    "        self.clear()\n",
    "        if lastItem is not None:\n",
    "            self.append(lastItem)\n",
    "\n",
    "        self.numCompaction += 1"
   ]
  },
  {
   "cell_type": "code",
   "execution_count": null,
   "metadata": {},
   "outputs": [],
   "source": []
  },
  {
   "cell_type": "code",
   "execution_count": 2,
   "metadata": {},
   "outputs": [],
   "source": [
    "from itertools import combinations\n",
    "\n",
    "def equal_size_histogram(X):\n",
    "    \n",
    "    values = np.sort(X)\n",
    "    n = len(values)\n",
    "    eps = 3\n",
    "    best_hist, best_K = sketch.Histogram(), 20\n",
    "        \n",
    "    for k in range(2, 50):\n",
    "        new_hist = sketch.Histogram(max_bins=k)\n",
    "        for x in values :\n",
    "            new_hist.update(x)\n",
    "        \n",
    "        for i in range(k):\n",
    "            bin_observations_count = new_hist[i].count\n",
    "            bin_width.append(bin_observations_count)\n",
    "            \n",
    "            combinaisons = list(combinations(bin_width, 2))\n",
    "            array_combinaisons = np.array(combinaisons)\n",
    "            vect_abs = np.zeros((len(array_combinaisons),1))\n",
    "\n",
    "            for i in range(0,len(array_combinaisons)):\n",
    "                vect_abs[i] = np.abs(array_combinaisons[i][1]- array_combinaisons[i][0])\n",
    "            vect_boolean = [True if x <= eps else False for x in vect]\n",
    "            \n",
    "            if vect_boolean.count(False) <= 27 :\n",
    "                best_hist = new_hist\n",
    "                best_K = K\n",
    "    \n",
    "    return best_hist, best_K"
   ]
  },
  {
   "cell_type": "code",
   "execution_count": 3,
   "metadata": {},
   "outputs": [],
   "source": [
    "#X = [random.uniform(0, 1) for _ in range(100)]\n",
    "#equal_size_histogram(X)"
   ]
  },
  {
   "cell_type": "markdown",
   "metadata": {},
   "source": [
    "## Methods"
   ]
  },
  {
   "cell_type": "markdown",
   "metadata": {},
   "source": [
    "### Paper method"
   ]
  },
  {
   "cell_type": "code",
   "execution_count": 49,
   "metadata": {},
   "outputs": [],
   "source": [
    "def paper_method(hist, N):\n",
    "\n",
    "    # Initialize the chi2\n",
    "    chi2 = 0\n",
    "\n",
    "    # Calculate the degrees of freedom\n",
    "    K = 20\n",
    "    df = K - 1\n",
    "\n",
    "    # Iterate over the bins of the sample\n",
    "    for i in range(1,K+1):\n",
    "        \n",
    "        Ei = N/K\n",
    "\n",
    "        # Calculate the probability corresponding to the ith bin\n",
    "        p_l = (i-1)/K\n",
    "        #q_l = river.stats.Quantile(p_l)\n",
    "        i_l = hist.cdf(p_l) # Calculate the value x such that the CDF of the hypothesized distribution is equal to p\n",
    "        \n",
    "        p_u = (i)/K\n",
    "        #q_u = river.stats.Quantile(p_u)\n",
    "        i_u = hist.cdf(p_u) # Calculate the value x such that the CDF of the hypothesized distribution is equal to p\n",
    "\n",
    "        Oi = N*(i_u-i_l)\n",
    "        lambda_i = np.abs(Oi - Ei)\n",
    "\n",
    "        if lambda_i > 2*np.sqrt(N):\n",
    "            chi2 += chi2 + ((lambda_i)**2) / Ei\n",
    "            break\n",
    "\n",
    "        chi2 += chi2 + ((lambda_i)**2) / Ei\n",
    "  \n",
    "    return chi2"
   ]
  },
  {
   "cell_type": "markdown",
   "metadata": {},
   "source": [
    "### Histogram method"
   ]
  },
  {
   "cell_type": "code",
   "execution_count": 50,
   "metadata": {},
   "outputs": [],
   "source": [
    "def histogram_method(hist):\n",
    "    \n",
    "    histogram_width = hist[-1].right - hist[0].left\n",
    "\n",
    "    chi2 = 0\n",
    "    \n",
    "    for i in range(len(hist) - 1):\n",
    "        bin_width = hist[i + 1].left - hist[i].left\n",
    "        bin_relative_width = bin_width / histogram_width\n",
    "        expected_count = bin_relative_width * hist.n\n",
    "        bin_count = hist[i].count\n",
    "        chi2 += ((bin_count - expected_count) ** 2) / expected_count\n",
    "    \n",
    "    return chi2"
   ]
  },
  {
   "cell_type": "markdown",
   "metadata": {},
   "source": [
    "### Scipy method"
   ]
  },
  {
   "cell_type": "code",
   "execution_count": 51,
   "metadata": {},
   "outputs": [],
   "source": [
    "import scipy.stats\n",
    "\n",
    "def scipy_method(hist):\n",
    "    return scipy.stats.chisquare(hist)"
   ]
  },
  {
   "cell_type": "markdown",
   "metadata": {},
   "source": [
    "### KLL"
   ]
  },
  {
   "cell_type": "code",
   "execution_count": 64,
   "metadata": {},
   "outputs": [],
   "source": [
    "def kll_method(kll):\n",
    "\n",
    "    # Initialize the chi2\n",
    "    chi2 = 0\n",
    "\n",
    "    # Calculate the degrees of freedom\n",
    "    K = 20\n",
    "    N = 1000\n",
    "    df = K - 1\n",
    "\n",
    "    # Iterate over the bins of the sample\n",
    "    for i in range(1,K+1):\n",
    "        \n",
    "        Ei = N/K\n",
    "\n",
    "        # Calculate the probability corresponding to the ith bin\n",
    "        p_l = (i-1)/K\n",
    "        #q_l = river.stats.Quantile(p_l)\n",
    "        i_l = kll.cdf(p_l) # Calculate the value x such that the CDF of the hypothesized distribution is equal to p\n",
    "        \n",
    "        p_u = (i)/K\n",
    "        #q_u = river.stats.Quantile(p_u)\n",
    "        i_u = kll.cdf(p_u) # Calculate the value x such that the CDF of the hypothesized distribution is equal to p\n",
    "\n",
    "        Oi = N*(i_u-i_l)\n",
    "        lambda_i = np.abs(Oi - Ei)\n",
    "\n",
    "        if lambda_i > 2*np.sqrt(N):\n",
    "            chi2 += chi2 + ((lambda_i)**2) / Ei\n",
    "            break\n",
    "\n",
    "        chi2 += chi2 + ((lambda_i)**2) / Ei\n",
    "  \n",
    "    return chi2\n"
   ]
  },
  {
   "cell_type": "markdown",
   "metadata": {},
   "source": [
    "### Quantile 1"
   ]
  },
  {
   "cell_type": "code",
   "execution_count": 65,
   "metadata": {},
   "outputs": [],
   "source": [
    "def define_quantile(K, quantiles):\n",
    "    \n",
    "    for b in range(0,K):\n",
    "        if ((b-1)/K < 1 and (b-1)/K > 0) and ((b)/K < 1 and (b)/K > 0):\n",
    "            q_l = stats.Quantile((b-1)/K)\n",
    "            q_u = stats.Quantile(b/K)\n",
    "\n",
    "            quantiles.append([q_l, q_u])\n",
    "    \n",
    "    return quantiles"
   ]
  },
  {
   "cell_type": "code",
   "execution_count": 66,
   "metadata": {},
   "outputs": [],
   "source": [
    "def update_quantile(x, quantiles):\n",
    "    \n",
    "    for b in range(0,K):\n",
    "        if ((b-1)/N < 1 and (b-1)/N > 0) and ((b)/N < 1 and (b)/N > 0) and (b>0) and (b<len(quantiles)):\n",
    "            quantiles[b][0].update(x)\n",
    "            quantiles[b][1].update(x)\n",
    "            "
   ]
  },
  {
   "cell_type": "code",
   "execution_count": 67,
   "metadata": {},
   "outputs": [],
   "source": [
    "def quantile1(hist, N, K, quantiles):\n",
    "\n",
    "    # Initialize the chi2\n",
    "    chi2 = 0\n",
    "\n",
    "    # Calculate the degrees of freedom\n",
    "    #expected frequency\n",
    "    Oi = N/K\n",
    "    \n",
    "    # Iterate over the bins of the sample\n",
    "    for b in range(2, K+2):\n",
    "\n",
    "        if ((b-1)/N < 1 and (b-1)/N > 0) and ((b)/N < 1 and (b)/N > 0) and (b>0) and (b<len(quantiles)) :\n",
    "\n",
    "            p_l = quantiles[b][0].get()\n",
    "            p_u = quantiles[b][1].get()\n",
    "\n",
    "            i_l = hist.cdf(p_l)\n",
    "            i_u = hist.cdf(p_u)\n",
    "\n",
    "            Ei = (i_u-i_l)*N\n",
    "            \n",
    "            lambda_i = np.abs(Oi - Ei)\n",
    "\n",
    "            chi2 += chi2 + ((lambda_i)**2) / Ei\n",
    "  \n",
    "    return chi2"
   ]
  },
  {
   "cell_type": "code",
   "execution_count": 68,
   "metadata": {},
   "outputs": [],
   "source": [
    "### Quantile 2 \n",
    "def quantile2(quantile_list, N):\n",
    "\n",
    "    x_min_quant = quantile_list[0].get()\n",
    "    x_max_quant = quantile_list[-1].get()\n",
    "\n",
    "    # Initialize the chi2\n",
    "    chi2 = 0\n",
    "    Ei = 0\n",
    "    \n",
    "    for i in range(0, len(quantile_list)-1):\n",
    "        borne_inf = quantile_list[i].get()\n",
    "        borne_sup = quantile_list[i+1].get()\n",
    "        \n",
    "        Oi = 1/(len(quantile_list)+2) #By definition, between 2 quantiles. We add 2 for Q0 and Q1\n",
    "        \n",
    "        if x_max_quant-x_min_quant !=0:\n",
    "            \n",
    "            ####\n",
    "            # We are expecting to have an uniform distrib, that why we can make the following assumptions\n",
    "            expected_quantile_size = (x_max_quant-x_min_quant)*(1/(len(quantile_list)-2))\n",
    "            Q0 = x_min_quant - expected_quantile_size\n",
    "            Q1 = x_max_quant + expected_quantile_size\n",
    "            \n",
    "            Ei = np.abs((borne_sup-borne_inf)/(Q1-Q0))\n",
    "            ####\n",
    "\n",
    "            if Ei !=0:\n",
    "                chi2 += ((((Oi - Ei)*N) ** 2) / (Ei*N))\n",
    "\n",
    "    return chi2"
   ]
  },
  {
   "cell_type": "code",
   "execution_count": 69,
   "metadata": {},
   "outputs": [],
   "source": [
    "from river import stats\n",
    "def define_quantile2(quantile_list):\n",
    "\n",
    "    #num_quantiles = 21 Paper says to use 20 bins for 1e7 data points\n",
    "    num_quantiles = 10\n",
    "\n",
    "    for i in range(1, num_quantiles):\n",
    "        quantile_list.append(stats.Quantile(i/num_quantiles))\n",
    "    return quantile_list"
   ]
  },
  {
   "cell_type": "code",
   "execution_count": 70,
   "metadata": {},
   "outputs": [],
   "source": [
    "def update_quantile2(quantile_list):\n",
    "    for quantile in quantile_list:\n",
    "        quantile.update(x)"
   ]
  },
  {
   "cell_type": "markdown",
   "metadata": {},
   "source": [
    "## Benchmark"
   ]
  },
  {
   "cell_type": "code",
   "execution_count": 71,
   "metadata": {},
   "outputs": [
    {
     "name": "stderr",
     "output_type": "stream",
     "text": [
      "/var/folders/1_/9z90xr695979cpbpnzc2tdfh0000gn/T/ipykernel_2339/3584112462.py:32: RuntimeWarning: divide by zero encountered in double_scalars\n",
      "  chi2 += chi2 + ((lambda_i)**2) / Ei\n",
      "/var/folders/1_/9z90xr695979cpbpnzc2tdfh0000gn/T/ipykernel_2339/1554278123.py:25: RuntimeWarning: divide by zero encountered in double_scalars\n",
      "  chi2 += chi2 + ((lambda_i)**2) / Ei\n"
     ]
    }
   ],
   "source": [
    "import random\n",
    "import numpy as np\n",
    "import collections\n",
    "from river import stats\n",
    "from river import sketch\n",
    "from scipy.stats import uniform\n",
    "cms = sketch.Counter(epsilon=0.005, seed=0)\n",
    "\n",
    "N = 1000\n",
    "X = [random.uniform(0, 1) for _ in range(N)]\n",
    "K = 10\n",
    "c = 1\n",
    "\n",
    "#X = np.random.normal(0, 1, N)\n",
    "#c = 3\n",
    "\n",
    "river_histogram = sketch.Histogram(max_bins=K)\n",
    "kll = KLL(K)\n",
    "\n",
    "quantiles1 = []\n",
    "quantiles1 = define_quantile(K, quantiles1)\n",
    "\n",
    "quantile_list = []\n",
    "quantile_list = define_quantile2(quantile_list)\n",
    "\n",
    "chi2_results = {\n",
    "    'histogram_paper': [],\n",
    "    'histogram': [],\n",
    "    'scipy': [],\n",
    "    'critical': [],\n",
    "    'kll_paper' : [],\n",
    "    'quantile1': [],\n",
    "    'quantile2': [],\n",
    "    'quantile3': [],\n",
    "    'quantile4': []}\n",
    "\n",
    "for i, x in enumerate(X, start=1):\n",
    " \n",
    "    river_histogram.update(x)\n",
    "    #kll.update(x)\n",
    "    numpy_histogram, _ = np.histogram(X[:i], bins=K)\n",
    "    \n",
    "    update_quantile(x, quantiles1)\n",
    "    \n",
    "    update_quantile2(quantile_list)\n",
    "    \n",
    "    chi2_results['histogram_paper'].append(paper_method(river_histogram, N))\n",
    "    chi2_results['histogram'].append(histogram_method(river_histogram))\n",
    "    chi2_results['scipy'].append(scipy_method(numpy_histogram)[0])\n",
    "    chi2_results['critical'].append(scipy.stats.chi2.ppf(1 - 0.005, K-c))\n",
    "    chi2_results['kll_paper'].append(kll_method(kll))\n",
    "    chi2_results['quantile1'].append(quantile1(river_histogram, i, K, quantiles1))\n",
    "    chi2_results['quantile2'].append(quantile2(quantile_list, i))"
   ]
  },
  {
   "cell_type": "code",
   "execution_count": 72,
   "metadata": {},
   "outputs": [
    {
     "data": {
      "image/png": "[encoded data removed]",
      "text/plain": [
       "<Figure size 432x288 with 1 Axes>"
      ]
     },
     "metadata": {
      "needs_background": "light"
     },
     "output_type": "display_data"
    }
   ],
   "source": [
    "import matplotlib.pyplot as plt\n",
    "\n",
    "fig, ax = plt.subplots()\n",
    "\n",
    "#ax.plot(chi2_results['histogram_paper'], label='histogram_paper')\n",
    "ax.plot(chi2_results['histogram'], label='histogram')\n",
    "ax.plot(chi2_results['scipy'], label='scipy')\n",
    "ax.plot(chi2_results['critical'], label='critical')\n",
    "\n",
    "ax.legend()\n",
    "\n",
    "fig.tight_layout()"
   ]
  },
  {
   "cell_type": "markdown",
   "metadata": {},
   "source": [
    "The hypothesis fails to reject if the chi2 value is below the critical value (below the green curve)"
   ]
  },
  {
   "cell_type": "code",
   "execution_count": 73,
   "metadata": {},
   "outputs": [
    {
     "data": {
      "image/png": "[encoded data removed]",
      "text/plain": [
       "<Figure size 720x360 with 2 Axes>"
      ]
     },
     "metadata": {
      "needs_background": "light"
     },
     "output_type": "display_data"
    }
   ],
   "source": [
    "fig, ax = plt.subplots(1, 2, figsize=(10,5))\n",
    "\n",
    "ax[0].plot(chi2_results['critical'], label='critical')\n",
    "ax[0].plot(chi2_results['quantile1'], label='quantile1')\n",
    "ax[0].plot(chi2_results['scipy'], label='scipy')\n",
    "ax[0].legend()\n",
    "\n",
    "ax[1].plot(chi2_results['critical'], label='critical')\n",
    "ax[1].plot(chi2_results['scipy'], label='scipy')\n",
    "ax[1].plot(chi2_results['quantile2'], label='quantile2')\n",
    "ax[1].legend()\n",
    "\n",
    "#ax.set_xlim(50, 1000)\n",
    "#ax.set_ylim(0, 100)\n",
    "\n",
    "fig.tight_layout()"
   ]
  },
  {
   "cell_type": "code",
   "execution_count": 75,
   "metadata": {},
   "outputs": [
    {
     "data": {
      "text/plain": [
       "<matplotlib.legend.Legend at 0x17c663880>"
      ]
     },
     "execution_count": 75,
     "metadata": {},
     "output_type": "execute_result"
    },
    {
     "data": {
      "image/png": "[encoded data removed]",
      "text/plain": [
       "<Figure size 432x288 with 1 Axes>"
      ]
     },
     "metadata": {
      "needs_background": "light"
     },
     "output_type": "display_data"
    }
   ],
   "source": [
    "# Bad results \n",
    "fig, ax = plt.subplots()\n",
    "ax.plot(chi2_results['histogram_paper'], label='histogram_paper')\n",
    "ax.plot(chi2_results['kll_paper'], label='kll_paper')\n",
    "ax.plot(chi2_results['critical'], label='critical')\n",
    "ax.legend()"
   ]
  },
  {
   "cell_type": "code",
   "execution_count": null,
   "metadata": {},
   "outputs": [],
   "source": []
  },
  {
   "cell_type": "code",
   "execution_count": null,
   "metadata": {},
   "outputs": [],
   "source": []
  },
  {
   "cell_type": "code",
   "execution_count": null,
   "metadata": {},
   "outputs": [],
   "source": []
  }
 ],
 "metadata": {
  "kernelspec": {
   "display_name": "Python 3 (ipykernel)",
   "language": "python",
   "name": "python3"
  },
  "language_info": {
   "codemirror_mode": {
    "name": "ipython",
    "version": 3
   },
   "file_extension": ".py",
   "mimetype": "text/x-python",
   "name": "python",
   "nbconvert_exporter": "python",
   "pygments_lexer": "ipython3",
   "version": "3.9.12"
  },
  "vscode": {
   "interpreter": {
    "hash": "14b46bd212fa4dd89e3980db6ba7efbb9fe535833e1e483b914b71733e0a56d2"
   }
  }
 },
 "nbformat": 4,
 "nbformat_minor": 2
}
